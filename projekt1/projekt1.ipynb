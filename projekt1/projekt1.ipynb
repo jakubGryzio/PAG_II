{
 "cells": [
  {
   "cell_type": "code",
   "execution_count": 47,
   "id": "c750b8d3",
   "metadata": {},
   "outputs": [],
   "source": [
    "import pandas as pd\n",
    "import numpy as np\n",
    "import requests\n",
    "import os\n",
    "from zipfile import ZipFile"
   ]
  },
  {
   "cell_type": "code",
   "execution_count": 7,
   "id": "89fed1fa",
   "metadata": {},
   "outputs": [
    {
     "name": "stdout",
     "output_type": "stream",
     "text": [
      "C:\\Users\\01150208\\OneDrive - Politechnika Warszawska\\Pliki_Kuby\\Studia\\III_ROK\\PAG\\PAG_II\\projekt1\\Dane\n",
      "Directory Dane created\n"
     ]
    }
   ],
   "source": [
    "parent_path = r'C:\\Users\\01150208\\OneDrive - Politechnika Warszawska\\Pliki_Kuby\\Studia\\III_ROK\\PAG\\PAG_II\\projekt1'\n",
    "directory = 'Dane'\n",
    "path = os.path.join(parent_path, directory)\n",
    "if not os.path.exists(path):\n",
    "    os.mkdir(path)\n",
    "    print(\"Directory '%s' created\" % directory)"
   ]
  },
  {
   "cell_type": "code",
   "execution_count": 27,
   "id": "9d9e5010",
   "metadata": {},
   "outputs": [
    {
     "name": "stdout",
     "output_type": "stream",
     "text": [
      "200\n"
     ]
    }
   ],
   "source": [
    "year = '2020'\n",
    "month = '01'\n",
    "url = f'https://dane.imgw.pl/datastore/getfiledown/Arch/Telemetria/Meteo/{year}/Meteo_{year}-{month}.zip'\n",
    "r = requests.get(url, allow_redirects=True)\n",
    "data_path_zip = f'{path}\\Meteo_{year}-{month}.zip'\n",
    "if r:\n",
    "    print(r.status_code)\n",
    "    open(data_path_zip, 'wb').write(r.content)"
   ]
  },
  {
   "cell_type": "code",
   "execution_count": 29,
   "id": "280dfd1e",
   "metadata": {},
   "outputs": [],
   "source": [
    "meteo_dir = f'Meteo_{year}-{month}'\n",
    "data_path = os.path.join(path, meteo_dir)\n",
    "if not os.path.exists(data_path):\n",
    "    os.mkdir(data_path)\n",
    "with ZipFile(data_path_zip, 'r') as zip:\n",
    "    zip.extractall(path=data_path)"
   ]
  },
  {
   "cell_type": "code",
   "execution_count": 30,
   "id": "118fccb3",
   "metadata": {},
   "outputs": [
    {
     "name": "stdout",
     "output_type": "stream",
     "text": [
      "['B00202A_2020_01.csv', 'B00300S_2020_01.csv', 'B00305A_2020_01.csv', 'B00604S_2020_01.csv', 'B00606S_2020_01.csv', 'B00608S_2020_01.csv', 'B00702A_2020_01.csv', 'B00703A_2020_01.csv', 'B00714A_2020_01.csv', 'B00802A_2020_01.csv', 'B00910A_2020_01.csv']\n"
     ]
    }
   ],
   "source": [
    "# print(os.listdir(data_path))"
   ]
  },
  {
   "cell_type": "code",
   "execution_count": 43,
   "id": "faf85fc8",
   "metadata": {},
   "outputs": [
    {
     "data": {
      "text/html": [
       "<div>\n",
       "<style scoped>\n",
       "    .dataframe tbody tr th:only-of-type {\n",
       "        vertical-align: middle;\n",
       "    }\n",
       "\n",
       "    .dataframe tbody tr th {\n",
       "        vertical-align: top;\n",
       "    }\n",
       "\n",
       "    .dataframe thead th {\n",
       "        text-align: right;\n",
       "    }\n",
       "</style>\n",
       "<table border=\"1\" class=\"dataframe\">\n",
       "  <thead>\n",
       "    <tr style=\"text-align: right;\">\n",
       "      <th></th>\n",
       "      <th>0</th>\n",
       "      <th>1</th>\n",
       "      <th>2</th>\n",
       "      <th>3</th>\n",
       "    </tr>\n",
       "  </thead>\n",
       "  <tbody>\n",
       "    <tr>\n",
       "      <th>0</th>\n",
       "      <td>249190890</td>\n",
       "      <td>B00300S</td>\n",
       "      <td>2020-01-01 00:00</td>\n",
       "      <td>3,2</td>\n",
       "    </tr>\n",
       "    <tr>\n",
       "      <th>1</th>\n",
       "      <td>249190890</td>\n",
       "      <td>B00300S</td>\n",
       "      <td>2020-01-01 00:10</td>\n",
       "      <td>3,2</td>\n",
       "    </tr>\n",
       "    <tr>\n",
       "      <th>2</th>\n",
       "      <td>249190890</td>\n",
       "      <td>B00300S</td>\n",
       "      <td>2020-01-01 00:20</td>\n",
       "      <td>3,3</td>\n",
       "    </tr>\n",
       "    <tr>\n",
       "      <th>3</th>\n",
       "      <td>249190890</td>\n",
       "      <td>B00300S</td>\n",
       "      <td>2020-01-01 00:30</td>\n",
       "      <td>3,1</td>\n",
       "    </tr>\n",
       "    <tr>\n",
       "      <th>4</th>\n",
       "      <td>249190890</td>\n",
       "      <td>B00300S</td>\n",
       "      <td>2020-01-01 00:40</td>\n",
       "      <td>3</td>\n",
       "    </tr>\n",
       "  </tbody>\n",
       "</table>\n",
       "</div>"
      ],
      "text/plain": [
       "           0        1                 2    3\n",
       "0  249190890  B00300S  2020-01-01 00:00  3,2\n",
       "1  249190890  B00300S  2020-01-01 00:10  3,2\n",
       "2  249190890  B00300S  2020-01-01 00:20  3,3\n",
       "3  249190890  B00300S  2020-01-01 00:30  3,1\n",
       "4  249190890  B00300S  2020-01-01 00:40    3"
      ]
     },
     "execution_count": 43,
     "metadata": {},
     "output_type": "execute_result"
    }
   ],
   "source": [
    "code = 'B00300S'\n",
    "for file in os.listdir(data_path):\n",
    "    if file.startswith(code):\n",
    "        df = pd.read_csv(os.path.join(data_path, file), header=None, delimiter=';', usecols=[0,1,2,3])\n",
    "df.head()"
   ]
  },
  {
   "cell_type": "code",
   "execution_count": 44,
   "id": "725ccd79",
   "metadata": {},
   "outputs": [],
   "source": [
    "df.rename(columns={0:\"KodSH\", 1:\"ParametrSH\", 2:'Data', 3:\"Wartość\"}, inplace=True)"
   ]
  },
  {
   "cell_type": "code",
   "execution_count": 45,
   "id": "e54b41cf",
   "metadata": {},
   "outputs": [
    {
     "data": {
      "text/html": [
       "<div>\n",
       "<style scoped>\n",
       "    .dataframe tbody tr th:only-of-type {\n",
       "        vertical-align: middle;\n",
       "    }\n",
       "\n",
       "    .dataframe tbody tr th {\n",
       "        vertical-align: top;\n",
       "    }\n",
       "\n",
       "    .dataframe thead th {\n",
       "        text-align: right;\n",
       "    }\n",
       "</style>\n",
       "<table border=\"1\" class=\"dataframe\">\n",
       "  <thead>\n",
       "    <tr style=\"text-align: right;\">\n",
       "      <th></th>\n",
       "      <th>KodSH</th>\n",
       "      <th>ParametrSH</th>\n",
       "      <th>Data</th>\n",
       "      <th>Wartość</th>\n",
       "    </tr>\n",
       "  </thead>\n",
       "  <tbody>\n",
       "    <tr>\n",
       "      <th>0</th>\n",
       "      <td>249190890</td>\n",
       "      <td>B00300S</td>\n",
       "      <td>2020-01-01 00:00</td>\n",
       "      <td>3,2</td>\n",
       "    </tr>\n",
       "    <tr>\n",
       "      <th>1</th>\n",
       "      <td>249190890</td>\n",
       "      <td>B00300S</td>\n",
       "      <td>2020-01-01 00:10</td>\n",
       "      <td>3,2</td>\n",
       "    </tr>\n",
       "    <tr>\n",
       "      <th>2</th>\n",
       "      <td>249190890</td>\n",
       "      <td>B00300S</td>\n",
       "      <td>2020-01-01 00:20</td>\n",
       "      <td>3,3</td>\n",
       "    </tr>\n",
       "    <tr>\n",
       "      <th>3</th>\n",
       "      <td>249190890</td>\n",
       "      <td>B00300S</td>\n",
       "      <td>2020-01-01 00:30</td>\n",
       "      <td>3,1</td>\n",
       "    </tr>\n",
       "    <tr>\n",
       "      <th>4</th>\n",
       "      <td>249190890</td>\n",
       "      <td>B00300S</td>\n",
       "      <td>2020-01-01 00:40</td>\n",
       "      <td>3</td>\n",
       "    </tr>\n",
       "  </tbody>\n",
       "</table>\n",
       "</div>"
      ],
      "text/plain": [
       "       KodSH ParametrSH              Data Wartość\n",
       "0  249190890    B00300S  2020-01-01 00:00     3,2\n",
       "1  249190890    B00300S  2020-01-01 00:10     3,2\n",
       "2  249190890    B00300S  2020-01-01 00:20     3,3\n",
       "3  249190890    B00300S  2020-01-01 00:30     3,1\n",
       "4  249190890    B00300S  2020-01-01 00:40       3"
      ]
     },
     "execution_count": 45,
     "metadata": {},
     "output_type": "execute_result"
    }
   ],
   "source": [
    "df.head()"
   ]
  },
  {
   "cell_type": "code",
   "execution_count": 48,
   "id": "2e767532",
   "metadata": {},
   "outputs": [
    {
     "name": "stdout",
     "output_type": "stream",
     "text": [
      "Dawn:    2021-10-22 04:38:05.746104+00:00\n",
      "Sunrise: 2021-10-22 05:13:23.395679+00:00\n",
      "Noon:    2021-10-22 10:20:28+00:00\n",
      "Sunset:  2021-10-22 15:26:38.110085+00:00\n",
      "Dusk:    2021-10-22 16:01:51.631447+00:00\n",
      "\n"
     ]
    }
   ],
   "source": [
    "import datetime\n",
    "from astral.sun import sun\n",
    "from astral import LocationInfo\n",
    "city = LocationInfo(\"Warsaw\", \"Poland\", \"Europe/Warsaw\", 52.0, 21.0)\n",
    "s = sun(city.observer, date=datetime.date(2021, 10, 22))\n",
    "print((\n",
    "    f'Dawn:    {s[\"dawn\"]}\\n'\n",
    "    f'Sunrise: {s[\"sunrise\"]}\\n'\n",
    "    f'Noon:    {s[\"noon\"]}\\n'\n",
    "    f'Sunset:  {s[\"sunset\"]}\\n'\n",
    "    f'Dusk:    {s[\"dusk\"]}\\n'\n",
    "))"
   ]
  },
  {
   "cell_type": "code",
   "execution_count": 49,
   "id": "a5a6db9c",
   "metadata": {},
   "outputs": [
    {
     "ename": "AttributeError",
     "evalue": "'datetime.datetime' object has no attribute 'dtype'",
     "output_type": "error",
     "traceback": [
      "\u001b[1;31m---------------------------------------------------------------------------\u001b[0m",
      "\u001b[1;31mAttributeError\u001b[0m                            Traceback (most recent call last)",
      "\u001b[1;32m<ipython-input-49-f2cbbc4b2caf>\u001b[0m in \u001b[0;36m<module>\u001b[1;34m\u001b[0m\n\u001b[1;32m----> 1\u001b[1;33m \u001b[0ms\u001b[0m\u001b[1;33m[\u001b[0m\u001b[1;34m\"dawn\"\u001b[0m\u001b[1;33m]\u001b[0m\u001b[1;33m.\u001b[0m\u001b[0mdtype\u001b[0m\u001b[1;33m\u001b[0m\u001b[1;33m\u001b[0m\u001b[0m\n\u001b[0m",
      "\u001b[1;31mAttributeError\u001b[0m: 'datetime.datetime' object has no attribute 'dtype'"
     ]
    }
   ],
   "source": [
    "s[\"dawn\"].dtype"
   ]
  },
  {
   "cell_type": "code",
   "execution_count": 50,
   "id": "c3cf70ad",
   "metadata": {},
   "outputs": [
    {
     "data": {
      "text/plain": [
       "datetime.datetime"
      ]
     },
     "execution_count": 50,
     "metadata": {},
     "output_type": "execute_result"
    }
   ],
   "source": [
    "type(s[\"dawn\"])"
   ]
  },
  {
   "cell_type": "code",
   "execution_count": null,
   "id": "b731ec72",
   "metadata": {},
   "outputs": [],
   "source": []
  }
 ],
 "metadata": {
  "kernelspec": {
   "display_name": "Python 3",
   "language": "python",
   "name": "python3"
  },
  "language_info": {
   "codemirror_mode": {
    "name": "ipython",
    "version": 3
   },
   "file_extension": ".py",
   "mimetype": "text/x-python",
   "name": "python",
   "nbconvert_exporter": "python",
   "pygments_lexer": "ipython3",
   "version": "3.8.8"
  }
 },
 "nbformat": 4,
 "nbformat_minor": 5
}
